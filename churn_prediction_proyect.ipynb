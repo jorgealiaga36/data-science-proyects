{
 "cells": [
  {
   "cell_type": "markdown",
   "id": "5a5abbc7",
   "metadata": {},
   "source": [
    "# Churn Prediction - Proyect"
   ]
  },
  {
   "cell_type": "code",
   "execution_count": 1,
   "id": "12a0c665",
   "metadata": {},
   "outputs": [],
   "source": [
    "__author__ = \"Jorge Aliaga Luque\"\n",
    "__website__ = \"https://jorgealiaga36.github.io/jorge-aliaga-luque/\""
   ]
  },
  {
   "cell_type": "markdown",
   "id": "b96a1f18",
   "metadata": {},
   "source": [
    "The main goal of this proyect is to apply machine learning to `predict churn in a telecom company`.\n",
    "\n",
    "Imagine that we are working at a telecom company that offers phone and internet services, and we have a problem: some of our customers are churning. They no longer are using our services and are going to a different provider. We would like to prevent that from happening, so we develop a system for identifying these customers and offer them an incentive to stay.\n",
    "\n",
    "First, I carry out a deep exploratory data analysis for analying relationships between data. Then, I preprocess the data and I do some feature engineering. Finally, I train a `Logisctic Regression` model selecting the best hyperparameters that fit better for the application and I analize its performance."
   ]
  },
  {
   "cell_type": "markdown",
   "id": "9f65bb21",
   "metadata": {},
   "source": [
    "### Dataset description"
   ]
  },
  {
   "cell_type": "markdown",
   "id": "4d2246fb",
   "metadata": {},
   "source": [
    "This dataset has the following information:\n",
    " + Services of the customers: phone; multiple lines; internet; tech support and extra services such as online security, backup, device protection, and TV streaming.\n",
    " + Account information: how long they have been clients, type of contract, type of payment method.\n",
    " + Charges: how much the client was charged in the past month and in total.\n",
    " + Demographic information: gender, age, and whether they have dependents or a partner.\n",
    " + Churn: yes/no, whether the customer left the company within the past month."
   ]
  },
  {
   "cell_type": "markdown",
   "id": "111247fc",
   "metadata": {},
   "source": [
    "Dataset link: https://www.kaggle.com/datasets/blastchar/telco-customer-churn"
   ]
  },
  {
   "cell_type": "markdown",
   "id": "ecf8a95b",
   "metadata": {},
   "source": [
    "## Table of Contents\n",
    "\n",
    "- [**1. Dataset review and preparation**](#ap1)\n",
    "\n",
    "\n",
    "- [**2. Exploratory data analysis**](#ap2)\n",
    " \n",
    "    - 2.1. [Missing values](#ap2_1)\n",
    "    \n",
    "    - 2.2. [Distribution of the target variable](#ap2_2)\n",
    "    \n",
    "    - 2.3. [Numerical variables](#ap2_3)\n",
    "        - 2.3.1. [Visualization](#ap_2_3_1)\n",
    "        - 2.3.2. [Correlation](#ap_2_3_2)\n",
    "       \n",
    "    - 2.4. [Categorical variables](#ap2_4)\n",
    "        - 2.4.1. [Visualization](#ap2_4_1)\n",
    "        - 2.4.2. [Chi2 score](#ap2_4_2)\n",
    "        \n",
    "    \n",
    "- [**3. Data Preprocessing and Feature engineering**](#ap3)\n",
    "\n",
    "    - 3.1. [Feature Scaling](#ap3_1)\n",
    "    - 3.2. [One hot encoding](#ap3_2)\n",
    "    \n",
    "    \n",
    "- [**4. Model fitting and selection**](#ap4)\n",
    "\n",
    "    - 4.1. [Hyperparameters tunning](#ap4_1)\n",
    "    - 4.2. [Model selected](#ap4_2)\n",
    "    - 4.3. [Evaluate model](#ap4_3)\n",
    "    \n",
    "     \n",
    "- [**5. Model interpretation**](#ap5)"
   ]
  },
  {
   "cell_type": "markdown",
   "id": "472c65ae",
   "metadata": {},
   "source": [
    "### Importing libraries"
   ]
  },
  {
   "cell_type": "code",
   "execution_count": 2,
   "id": "84b7f257",
   "metadata": {},
   "outputs": [],
   "source": [
    "import pandas as pd\n",
    "import numpy as np\n",
    "import seaborn as sns\n",
    "\n",
    "from matplotlib import pyplot as plt\n",
    "%matplotlib inline\n",
    "\n",
    "from sklearn.linear_model import LogisticRegression\n",
    "from sklearn.model_selection import train_test_split, GridSearchCV\n",
    "from sklearn.metrics import confusion_matrix, classification_report, roc_auc_score, roc_curve, accuracy_score\n",
    "from sklearn.preprocessing import StandardScaler\n",
    "from sklearn.feature_selection import SelectKBest, chi2\n",
    "\n",
    "import warnings\n",
    "warnings.simplefilter(action='ignore', category=FutureWarning)\n",
    "\n",
    "sns.set_style('darkgrid')"
   ]
  },
  {
   "cell_type": "markdown",
   "id": "b833260a",
   "metadata": {},
   "source": [
    "<a name=\"ap1\"></a>\n",
    "# 1. Dataset review  and preparation"
   ]
  },
  {
   "cell_type": "markdown",
   "id": "a4c619e2",
   "metadata": {},
   "source": [
    "### Load data"
   ]
  },
  {
   "cell_type": "code",
   "execution_count": 3,
   "id": "ec642e2b",
   "metadata": {
    "scrolled": true
   },
   "outputs": [
    {
     "name": "stdout",
     "output_type": "stream",
     "text": [
      "Number of examples: 7043\n"
     ]
    },
    {
     "data": {
      "text/html": [
       "<div>\n",
       "<style scoped>\n",
       "    .dataframe tbody tr th:only-of-type {\n",
       "        vertical-align: middle;\n",
       "    }\n",
       "\n",
       "    .dataframe tbody tr th {\n",
       "        vertical-align: top;\n",
       "    }\n",
       "\n",
       "    .dataframe thead th {\n",
       "        text-align: right;\n",
       "    }\n",
       "</style>\n",
       "<table border=\"1\" class=\"dataframe\">\n",
       "  <thead>\n",
       "    <tr style=\"text-align: right;\">\n",
       "      <th></th>\n",
       "      <th>0</th>\n",
       "      <th>1</th>\n",
       "      <th>2</th>\n",
       "      <th>3</th>\n",
       "      <th>4</th>\n",
       "    </tr>\n",
       "  </thead>\n",
       "  <tbody>\n",
       "    <tr>\n",
       "      <th>customerID</th>\n",
       "      <td>7590-VHVEG</td>\n",
       "      <td>5575-GNVDE</td>\n",
       "      <td>3668-QPYBK</td>\n",
       "      <td>7795-CFOCW</td>\n",
       "      <td>9237-HQITU</td>\n",
       "    </tr>\n",
       "    <tr>\n",
       "      <th>gender</th>\n",
       "      <td>Female</td>\n",
       "      <td>Male</td>\n",
       "      <td>Male</td>\n",
       "      <td>Male</td>\n",
       "      <td>Female</td>\n",
       "    </tr>\n",
       "    <tr>\n",
       "      <th>SeniorCitizen</th>\n",
       "      <td>0</td>\n",
       "      <td>0</td>\n",
       "      <td>0</td>\n",
       "      <td>0</td>\n",
       "      <td>0</td>\n",
       "    </tr>\n",
       "    <tr>\n",
       "      <th>Partner</th>\n",
       "      <td>Yes</td>\n",
       "      <td>No</td>\n",
       "      <td>No</td>\n",
       "      <td>No</td>\n",
       "      <td>No</td>\n",
       "    </tr>\n",
       "    <tr>\n",
       "      <th>Dependents</th>\n",
       "      <td>No</td>\n",
       "      <td>No</td>\n",
       "      <td>No</td>\n",
       "      <td>No</td>\n",
       "      <td>No</td>\n",
       "    </tr>\n",
       "    <tr>\n",
       "      <th>tenure</th>\n",
       "      <td>1</td>\n",
       "      <td>34</td>\n",
       "      <td>2</td>\n",
       "      <td>45</td>\n",
       "      <td>2</td>\n",
       "    </tr>\n",
       "    <tr>\n",
       "      <th>PhoneService</th>\n",
       "      <td>No</td>\n",
       "      <td>Yes</td>\n",
       "      <td>Yes</td>\n",
       "      <td>No</td>\n",
       "      <td>Yes</td>\n",
       "    </tr>\n",
       "    <tr>\n",
       "      <th>MultipleLines</th>\n",
       "      <td>No phone service</td>\n",
       "      <td>No</td>\n",
       "      <td>No</td>\n",
       "      <td>No phone service</td>\n",
       "      <td>No</td>\n",
       "    </tr>\n",
       "    <tr>\n",
       "      <th>InternetService</th>\n",
       "      <td>DSL</td>\n",
       "      <td>DSL</td>\n",
       "      <td>DSL</td>\n",
       "      <td>DSL</td>\n",
       "      <td>Fiber optic</td>\n",
       "    </tr>\n",
       "    <tr>\n",
       "      <th>OnlineSecurity</th>\n",
       "      <td>No</td>\n",
       "      <td>Yes</td>\n",
       "      <td>Yes</td>\n",
       "      <td>Yes</td>\n",
       "      <td>No</td>\n",
       "    </tr>\n",
       "    <tr>\n",
       "      <th>OnlineBackup</th>\n",
       "      <td>Yes</td>\n",
       "      <td>No</td>\n",
       "      <td>Yes</td>\n",
       "      <td>No</td>\n",
       "      <td>No</td>\n",
       "    </tr>\n",
       "    <tr>\n",
       "      <th>DeviceProtection</th>\n",
       "      <td>No</td>\n",
       "      <td>Yes</td>\n",
       "      <td>No</td>\n",
       "      <td>Yes</td>\n",
       "      <td>No</td>\n",
       "    </tr>\n",
       "    <tr>\n",
       "      <th>TechSupport</th>\n",
       "      <td>No</td>\n",
       "      <td>No</td>\n",
       "      <td>No</td>\n",
       "      <td>Yes</td>\n",
       "      <td>No</td>\n",
       "    </tr>\n",
       "    <tr>\n",
       "      <th>StreamingTV</th>\n",
       "      <td>No</td>\n",
       "      <td>No</td>\n",
       "      <td>No</td>\n",
       "      <td>No</td>\n",
       "      <td>No</td>\n",
       "    </tr>\n",
       "    <tr>\n",
       "      <th>StreamingMovies</th>\n",
       "      <td>No</td>\n",
       "      <td>No</td>\n",
       "      <td>No</td>\n",
       "      <td>No</td>\n",
       "      <td>No</td>\n",
       "    </tr>\n",
       "    <tr>\n",
       "      <th>Contract</th>\n",
       "      <td>Month-to-month</td>\n",
       "      <td>One year</td>\n",
       "      <td>Month-to-month</td>\n",
       "      <td>One year</td>\n",
       "      <td>Month-to-month</td>\n",
       "    </tr>\n",
       "    <tr>\n",
       "      <th>PaperlessBilling</th>\n",
       "      <td>Yes</td>\n",
       "      <td>No</td>\n",
       "      <td>Yes</td>\n",
       "      <td>No</td>\n",
       "      <td>Yes</td>\n",
       "    </tr>\n",
       "    <tr>\n",
       "      <th>PaymentMethod</th>\n",
       "      <td>Electronic check</td>\n",
       "      <td>Mailed check</td>\n",
       "      <td>Mailed check</td>\n",
       "      <td>Bank transfer (automatic)</td>\n",
       "      <td>Electronic check</td>\n",
       "    </tr>\n",
       "    <tr>\n",
       "      <th>MonthlyCharges</th>\n",
       "      <td>29.85</td>\n",
       "      <td>56.95</td>\n",
       "      <td>53.85</td>\n",
       "      <td>42.3</td>\n",
       "      <td>70.7</td>\n",
       "    </tr>\n",
       "    <tr>\n",
       "      <th>TotalCharges</th>\n",
       "      <td>29.85</td>\n",
       "      <td>1889.5</td>\n",
       "      <td>108.15</td>\n",
       "      <td>1840.75</td>\n",
       "      <td>151.65</td>\n",
       "    </tr>\n",
       "    <tr>\n",
       "      <th>Churn</th>\n",
       "      <td>No</td>\n",
       "      <td>No</td>\n",
       "      <td>Yes</td>\n",
       "      <td>No</td>\n",
       "      <td>Yes</td>\n",
       "    </tr>\n",
       "  </tbody>\n",
       "</table>\n",
       "</div>"
      ],
      "text/plain": [
       "                                 0             1               2  \\\n",
       "customerID              7590-VHVEG    5575-GNVDE      3668-QPYBK   \n",
       "gender                      Female          Male            Male   \n",
       "SeniorCitizen                    0             0               0   \n",
       "Partner                        Yes            No              No   \n",
       "Dependents                      No            No              No   \n",
       "tenure                           1            34               2   \n",
       "PhoneService                    No           Yes             Yes   \n",
       "MultipleLines     No phone service            No              No   \n",
       "InternetService                DSL           DSL             DSL   \n",
       "OnlineSecurity                  No           Yes             Yes   \n",
       "OnlineBackup                   Yes            No             Yes   \n",
       "DeviceProtection                No           Yes              No   \n",
       "TechSupport                     No            No              No   \n",
       "StreamingTV                     No            No              No   \n",
       "StreamingMovies                 No            No              No   \n",
       "Contract            Month-to-month      One year  Month-to-month   \n",
       "PaperlessBilling               Yes            No             Yes   \n",
       "PaymentMethod     Electronic check  Mailed check    Mailed check   \n",
       "MonthlyCharges               29.85         56.95           53.85   \n",
       "TotalCharges                 29.85        1889.5          108.15   \n",
       "Churn                           No            No             Yes   \n",
       "\n",
       "                                          3                 4  \n",
       "customerID                       7795-CFOCW        9237-HQITU  \n",
       "gender                                 Male            Female  \n",
       "SeniorCitizen                             0                 0  \n",
       "Partner                                  No                No  \n",
       "Dependents                               No                No  \n",
       "tenure                                   45                 2  \n",
       "PhoneService                             No               Yes  \n",
       "MultipleLines              No phone service                No  \n",
       "InternetService                         DSL       Fiber optic  \n",
       "OnlineSecurity                          Yes                No  \n",
       "OnlineBackup                             No                No  \n",
       "DeviceProtection                        Yes                No  \n",
       "TechSupport                             Yes                No  \n",
       "StreamingTV                              No                No  \n",
       "StreamingMovies                          No                No  \n",
       "Contract                           One year    Month-to-month  \n",
       "PaperlessBilling                         No               Yes  \n",
       "PaymentMethod     Bank transfer (automatic)  Electronic check  \n",
       "MonthlyCharges                         42.3              70.7  \n",
       "TotalCharges                        1840.75            151.65  \n",
       "Churn                                    No               Yes  "
      ]
     },
     "execution_count": 3,
     "metadata": {},
     "output_type": "execute_result"
    }
   ],
   "source": [
    "df = pd.read_csv('datasets/churn.csv')\n",
    "\n",
    "print('Number of examples: {}'.format(len(df)))\n",
    "df.head().T"
   ]
  },
  {
   "cell_type": "markdown",
   "id": "e1d99bb6",
   "metadata": {},
   "source": [
    "### Data preparation "
   ]
  },
  {
   "cell_type": "code",
   "execution_count": 4,
   "id": "62f5b7a0",
   "metadata": {
    "scrolled": true
   },
   "outputs": [
    {
     "name": "stdout",
     "output_type": "stream",
     "text": [
      "<class 'pandas.core.frame.DataFrame'>\n",
      "RangeIndex: 7043 entries, 0 to 7042\n",
      "Data columns (total 21 columns):\n",
      " #   Column            Non-Null Count  Dtype  \n",
      "---  ------            --------------  -----  \n",
      " 0   customerID        7043 non-null   object \n",
      " 1   gender            7043 non-null   object \n",
      " 2   SeniorCitizen     7043 non-null   int64  \n",
      " 3   Partner           7043 non-null   object \n",
      " 4   Dependents        7043 non-null   object \n",
      " 5   tenure            7043 non-null   int64  \n",
      " 6   PhoneService      7043 non-null   object \n",
      " 7   MultipleLines     7043 non-null   object \n",
      " 8   InternetService   7043 non-null   object \n",
      " 9   OnlineSecurity    7043 non-null   object \n",
      " 10  OnlineBackup      7043 non-null   object \n",
      " 11  DeviceProtection  7043 non-null   object \n",
      " 12  TechSupport       7043 non-null   object \n",
      " 13  StreamingTV       7043 non-null   object \n",
      " 14  StreamingMovies   7043 non-null   object \n",
      " 15  Contract          7043 non-null   object \n",
      " 16  PaperlessBilling  7043 non-null   object \n",
      " 17  PaymentMethod     7043 non-null   object \n",
      " 18  MonthlyCharges    7043 non-null   float64\n",
      " 19  TotalCharges      7043 non-null   object \n",
      " 20  Churn             7043 non-null   object \n",
      "dtypes: float64(1), int64(2), object(18)\n",
      "memory usage: 1.1+ MB\n"
     ]
    }
   ],
   "source": [
    "df.info()"
   ]
  },
  {
   "cell_type": "markdown",
   "id": "fcc99fd8",
   "metadata": {},
   "source": [
    "We can see incorrect data types:\n",
    "\n",
    "+ SeniorCitizen: Int64 type (1/0) where it should be object type (yes/no).\n",
    "+ TotalCharges: Object type where it should be an Int64 type.\n",
    "+ Churn: Object type (yes/no) where it should be an object type type (1/0)."
   ]
  },
  {
   "cell_type": "code",
   "execution_count": 5,
   "id": "c03ee130",
   "metadata": {},
   "outputs": [],
   "source": [
    "df['SeniorCitizen'] = df['SeniorCitizen'].map({1: 'yes', 0: 'No'})\n",
    "\n",
    "df.TotalCharges = pd.to_numeric(df.TotalCharges, errors='coerce')\n",
    "\n",
    "df['Churn'] = df['Churn'].map({'Yes': 1, 'No': 0})"
   ]
  },
  {
   "cell_type": "markdown",
   "id": "2004499b",
   "metadata": {},
   "source": [
    "Also we must remove customer IDs from the dataset because it is not relevant for predicting when a customer is going to churn or not."
   ]
  },
  {
   "cell_type": "code",
   "execution_count": 6,
   "id": "df149b64",
   "metadata": {},
   "outputs": [],
   "source": [
    "df = df.drop(columns = ['customerID'], axis=1)"
   ]
  },
  {
   "cell_type": "code",
   "execution_count": 7,
   "id": "6efcac1e",
   "metadata": {},
   "outputs": [
    {
     "data": {
      "text/html": [
       "<div>\n",
       "<style scoped>\n",
       "    .dataframe tbody tr th:only-of-type {\n",
       "        vertical-align: middle;\n",
       "    }\n",
       "\n",
       "    .dataframe tbody tr th {\n",
       "        vertical-align: top;\n",
       "    }\n",
       "\n",
       "    .dataframe thead th {\n",
       "        text-align: right;\n",
       "    }\n",
       "</style>\n",
       "<table border=\"1\" class=\"dataframe\">\n",
       "  <thead>\n",
       "    <tr style=\"text-align: right;\">\n",
       "      <th></th>\n",
       "      <th>0</th>\n",
       "      <th>1</th>\n",
       "      <th>2</th>\n",
       "      <th>3</th>\n",
       "      <th>4</th>\n",
       "    </tr>\n",
       "  </thead>\n",
       "  <tbody>\n",
       "    <tr>\n",
       "      <th>gender</th>\n",
       "      <td>Female</td>\n",
       "      <td>Male</td>\n",
       "      <td>Male</td>\n",
       "      <td>Male</td>\n",
       "      <td>Female</td>\n",
       "    </tr>\n",
       "    <tr>\n",
       "      <th>SeniorCitizen</th>\n",
       "      <td>No</td>\n",
       "      <td>No</td>\n",
       "      <td>No</td>\n",
       "      <td>No</td>\n",
       "      <td>No</td>\n",
       "    </tr>\n",
       "    <tr>\n",
       "      <th>Partner</th>\n",
       "      <td>Yes</td>\n",
       "      <td>No</td>\n",
       "      <td>No</td>\n",
       "      <td>No</td>\n",
       "      <td>No</td>\n",
       "    </tr>\n",
       "    <tr>\n",
       "      <th>Dependents</th>\n",
       "      <td>No</td>\n",
       "      <td>No</td>\n",
       "      <td>No</td>\n",
       "      <td>No</td>\n",
       "      <td>No</td>\n",
       "    </tr>\n",
       "    <tr>\n",
       "      <th>tenure</th>\n",
       "      <td>1</td>\n",
       "      <td>34</td>\n",
       "      <td>2</td>\n",
       "      <td>45</td>\n",
       "      <td>2</td>\n",
       "    </tr>\n",
       "    <tr>\n",
       "      <th>PhoneService</th>\n",
       "      <td>No</td>\n",
       "      <td>Yes</td>\n",
       "      <td>Yes</td>\n",
       "      <td>No</td>\n",
       "      <td>Yes</td>\n",
       "    </tr>\n",
       "    <tr>\n",
       "      <th>MultipleLines</th>\n",
       "      <td>No phone service</td>\n",
       "      <td>No</td>\n",
       "      <td>No</td>\n",
       "      <td>No phone service</td>\n",
       "      <td>No</td>\n",
       "    </tr>\n",
       "    <tr>\n",
       "      <th>InternetService</th>\n",
       "      <td>DSL</td>\n",
       "      <td>DSL</td>\n",
       "      <td>DSL</td>\n",
       "      <td>DSL</td>\n",
       "      <td>Fiber optic</td>\n",
       "    </tr>\n",
       "    <tr>\n",
       "      <th>OnlineSecurity</th>\n",
       "      <td>No</td>\n",
       "      <td>Yes</td>\n",
       "      <td>Yes</td>\n",
       "      <td>Yes</td>\n",
       "      <td>No</td>\n",
       "    </tr>\n",
       "    <tr>\n",
       "      <th>OnlineBackup</th>\n",
       "      <td>Yes</td>\n",
       "      <td>No</td>\n",
       "      <td>Yes</td>\n",
       "      <td>No</td>\n",
       "      <td>No</td>\n",
       "    </tr>\n",
       "    <tr>\n",
       "      <th>DeviceProtection</th>\n",
       "      <td>No</td>\n",
       "      <td>Yes</td>\n",
       "      <td>No</td>\n",
       "      <td>Yes</td>\n",
       "      <td>No</td>\n",
       "    </tr>\n",
       "    <tr>\n",
       "      <th>TechSupport</th>\n",
       "      <td>No</td>\n",
       "      <td>No</td>\n",
       "      <td>No</td>\n",
       "      <td>Yes</td>\n",
       "      <td>No</td>\n",
       "    </tr>\n",
       "    <tr>\n",
       "      <th>StreamingTV</th>\n",
       "      <td>No</td>\n",
       "      <td>No</td>\n",
       "      <td>No</td>\n",
       "      <td>No</td>\n",
       "      <td>No</td>\n",
       "    </tr>\n",
       "    <tr>\n",
       "      <th>StreamingMovies</th>\n",
       "      <td>No</td>\n",
       "      <td>No</td>\n",
       "      <td>No</td>\n",
       "      <td>No</td>\n",
       "      <td>No</td>\n",
       "    </tr>\n",
       "    <tr>\n",
       "      <th>Contract</th>\n",
       "      <td>Month-to-month</td>\n",
       "      <td>One year</td>\n",
       "      <td>Month-to-month</td>\n",
       "      <td>One year</td>\n",
       "      <td>Month-to-month</td>\n",
       "    </tr>\n",
       "    <tr>\n",
       "      <th>PaperlessBilling</th>\n",
       "      <td>Yes</td>\n",
       "      <td>No</td>\n",
       "      <td>Yes</td>\n",
       "      <td>No</td>\n",
       "      <td>Yes</td>\n",
       "    </tr>\n",
       "    <tr>\n",
       "      <th>PaymentMethod</th>\n",
       "      <td>Electronic check</td>\n",
       "      <td>Mailed check</td>\n",
       "      <td>Mailed check</td>\n",
       "      <td>Bank transfer (automatic)</td>\n",
       "      <td>Electronic check</td>\n",
       "    </tr>\n",
       "    <tr>\n",
       "      <th>MonthlyCharges</th>\n",
       "      <td>29.85</td>\n",
       "      <td>56.95</td>\n",
       "      <td>53.85</td>\n",
       "      <td>42.3</td>\n",
       "      <td>70.7</td>\n",
       "    </tr>\n",
       "    <tr>\n",
       "      <th>TotalCharges</th>\n",
       "      <td>29.85</td>\n",
       "      <td>1889.5</td>\n",
       "      <td>108.15</td>\n",
       "      <td>1840.75</td>\n",
       "      <td>151.65</td>\n",
       "    </tr>\n",
       "    <tr>\n",
       "      <th>Churn</th>\n",
       "      <td>0</td>\n",
       "      <td>0</td>\n",
       "      <td>1</td>\n",
       "      <td>0</td>\n",
       "      <td>1</td>\n",
       "    </tr>\n",
       "  </tbody>\n",
       "</table>\n",
       "</div>"
      ],
      "text/plain": [
       "                                 0             1               2  \\\n",
       "gender                      Female          Male            Male   \n",
       "SeniorCitizen                   No            No              No   \n",
       "Partner                        Yes            No              No   \n",
       "Dependents                      No            No              No   \n",
       "tenure                           1            34               2   \n",
       "PhoneService                    No           Yes             Yes   \n",
       "MultipleLines     No phone service            No              No   \n",
       "InternetService                DSL           DSL             DSL   \n",
       "OnlineSecurity                  No           Yes             Yes   \n",
       "OnlineBackup                   Yes            No             Yes   \n",
       "DeviceProtection                No           Yes              No   \n",
       "TechSupport                     No            No              No   \n",
       "StreamingTV                     No            No              No   \n",
       "StreamingMovies                 No            No              No   \n",
       "Contract            Month-to-month      One year  Month-to-month   \n",
       "PaperlessBilling               Yes            No             Yes   \n",
       "PaymentMethod     Electronic check  Mailed check    Mailed check   \n",
       "MonthlyCharges               29.85         56.95           53.85   \n",
       "TotalCharges                 29.85        1889.5          108.15   \n",
       "Churn                            0             0               1   \n",
       "\n",
       "                                          3                 4  \n",
       "gender                                 Male            Female  \n",
       "SeniorCitizen                            No                No  \n",
       "Partner                                  No                No  \n",
       "Dependents                               No                No  \n",
       "tenure                                   45                 2  \n",
       "PhoneService                             No               Yes  \n",
       "MultipleLines              No phone service                No  \n",
       "InternetService                         DSL       Fiber optic  \n",
       "OnlineSecurity                          Yes                No  \n",
       "OnlineBackup                             No                No  \n",
       "DeviceProtection                        Yes                No  \n",
       "TechSupport                             Yes                No  \n",
       "StreamingTV                              No                No  \n",
       "StreamingMovies                          No                No  \n",
       "Contract                           One year    Month-to-month  \n",
       "PaperlessBilling                         No               Yes  \n",
       "PaymentMethod     Bank transfer (automatic)  Electronic check  \n",
       "MonthlyCharges                         42.3              70.7  \n",
       "TotalCharges                        1840.75            151.65  \n",
       "Churn                                     0                 1  "
      ]
     },
     "execution_count": 7,
     "metadata": {},
     "output_type": "execute_result"
    }
   ],
   "source": [
    "df.head().T"
   ]
  },
  {
   "cell_type": "code",
   "execution_count": 8,
   "id": "f83bb4a1",
   "metadata": {},
   "outputs": [
    {
     "name": "stdout",
     "output_type": "stream",
     "text": [
      "<class 'pandas.core.frame.DataFrame'>\n",
      "RangeIndex: 7043 entries, 0 to 7042\n",
      "Data columns (total 20 columns):\n",
      " #   Column            Non-Null Count  Dtype  \n",
      "---  ------            --------------  -----  \n",
      " 0   gender            7043 non-null   object \n",
      " 1   SeniorCitizen     7043 non-null   object \n",
      " 2   Partner           7043 non-null   object \n",
      " 3   Dependents        7043 non-null   object \n",
      " 4   tenure            7043 non-null   int64  \n",
      " 5   PhoneService      7043 non-null   object \n",
      " 6   MultipleLines     7043 non-null   object \n",
      " 7   InternetService   7043 non-null   object \n",
      " 8   OnlineSecurity    7043 non-null   object \n",
      " 9   OnlineBackup      7043 non-null   object \n",
      " 10  DeviceProtection  7043 non-null   object \n",
      " 11  TechSupport       7043 non-null   object \n",
      " 12  StreamingTV       7043 non-null   object \n",
      " 13  StreamingMovies   7043 non-null   object \n",
      " 14  Contract          7043 non-null   object \n",
      " 15  PaperlessBilling  7043 non-null   object \n",
      " 16  PaymentMethod     7043 non-null   object \n",
      " 17  MonthlyCharges    7043 non-null   float64\n",
      " 18  TotalCharges      7032 non-null   float64\n",
      " 19  Churn             7043 non-null   int64  \n",
      "dtypes: float64(2), int64(2), object(16)\n",
      "memory usage: 1.1+ MB\n"
     ]
    }
   ],
   "source": [
    "df.info()"
   ]
  },
  {
   "cell_type": "markdown",
   "id": "ab81fdab",
   "metadata": {},
   "source": [
    "### Describe data"
   ]
  },
  {
   "cell_type": "code",
   "execution_count": 9,
   "id": "36a543bd",
   "metadata": {},
   "outputs": [
    {
     "name": "stdout",
     "output_type": "stream",
     "text": [
      "There are 16 categorical variables: \n",
      "['gender', 'SeniorCitizen', 'Partner', 'Dependents', 'PhoneService', 'MultipleLines', 'InternetService', 'OnlineSecurity', 'OnlineBackup', 'DeviceProtection', 'TechSupport', 'StreamingTV', 'StreamingMovies', 'Contract', 'PaperlessBilling', 'PaymentMethod']\n"
     ]
    }
   ],
   "source": [
    "catCols = list(df.select_dtypes(include='object').columns)\n",
    "print('There are {} categorical variables: \\n{}'.format(len(catCols), catCols))"
   ]
  },
  {
   "cell_type": "code",
   "execution_count": 10,
   "id": "e2cfd057",
   "metadata": {},
   "outputs": [
    {
     "name": "stdout",
     "output_type": "stream",
     "text": [
      "There are 3 numerical variables: \n",
      "['tenure', 'MonthlyCharges', 'TotalCharges']\n"
     ]
    }
   ],
   "source": [
    "#We exclude the target variable.\n",
    "\n",
    "numCols = list(df.select_dtypes(exclude = 'object').columns[:-1]) \n",
    "print('There are {} numerical variables: \\n{}'.format(len(numCols), numCols))"
   ]
  },
  {
   "cell_type": "markdown",
   "id": "f6ce442f",
   "metadata": {},
   "source": [
    "<a name=\"ap2\"></a>\n",
    "# 2. Exploratory data analysis "
   ]
  },
  {
   "cell_type": "markdown",
   "id": "90ae2d24",
   "metadata": {},
   "source": [
    "First we split our dataframe into X and y variables to avoid using our target variable in the training process."
   ]
  },
  {
   "cell_type": "code",
   "execution_count": 11,
   "id": "4f842c91",
   "metadata": {},
   "outputs": [],
   "source": [
    "X = df.drop(columns=['Churn'], axis=1)\n",
    "y = df['Churn']"
   ]
  },
  {
   "cell_type": "markdown",
   "id": "a72e57f7",
   "metadata": {},
   "source": [
    "<a name=\"ap2_1\"></a>\n",
    "## 2.1. Missing values"
   ]
  },
  {
   "cell_type": "code",
   "execution_count": 12,
   "id": "5563af58",
   "metadata": {},
   "outputs": [
    {
     "data": {
      "text/plain": [
       "gender               0\n",
       "SeniorCitizen        0\n",
       "Partner              0\n",
       "Dependents           0\n",
       "tenure               0\n",
       "PhoneService         0\n",
       "MultipleLines        0\n",
       "InternetService      0\n",
       "OnlineSecurity       0\n",
       "OnlineBackup         0\n",
       "DeviceProtection     0\n",
       "TechSupport          0\n",
       "StreamingTV          0\n",
       "StreamingMovies      0\n",
       "Contract             0\n",
       "PaperlessBilling     0\n",
       "PaymentMethod        0\n",
       "MonthlyCharges       0\n",
       "TotalCharges        11\n",
       "Churn                0\n",
       "dtype: int64"
      ]
     },
     "execution_count": 12,
     "metadata": {},
     "output_type": "execute_result"
    }
   ],
   "source": [
    "df.isnull().sum()"
   ]
  },
  {
   "cell_type": "markdown",
   "id": "c68f578a",
   "metadata": {},
   "source": [
    "There are some missing values for total charges. . \n",
    "\n",
    "+ It represents ~ 0.2% of the total users so it is better to remove these observations from the dataset."
   ]
  },
  {
   "cell_type": "code",
   "execution_count": 13,
   "id": "45a2f176",
   "metadata": {},
   "outputs": [
    {
     "name": "stdout",
     "output_type": "stream",
     "text": [
      "Total charges missing values: 0.16 %\n"
     ]
    }
   ],
   "source": [
    "percent = round(df.TotalCharges.isnull().sum()*100/len(df),2)\n",
    "print('Total charges missing values: {} %'.format(percent))"
   ]
  },
  {
   "cell_type": "code",
   "execution_count": 14,
   "id": "5b49cea2",
   "metadata": {},
   "outputs": [
    {
     "data": {
      "text/plain": [
       "0"
      ]
     },
     "execution_count": 14,
     "metadata": {},
     "output_type": "execute_result"
    }
   ],
   "source": [
    "rows_with_nan = [index for index, row in df.iterrows() if row.isnull().any()]\n",
    "X = X.drop(index=rows_with_nan)\n",
    "y = y.drop(index=rows_with_nan)\n",
    "\n",
    "X.TotalCharges.isnull().sum()"
   ]
  },
  {
   "cell_type": "markdown",
   "id": "59a7bcea",
   "metadata": {},
   "source": [
    "There is no missing values!"
   ]
  },
  {
   "cell_type": "markdown",
   "id": "c0a9677b",
   "metadata": {},
   "source": [
    "<a name=\"ap2_2\"></a>\n",
    "## 2.2. Target variable"
   ]
  },
  {
   "cell_type": "markdown",
   "id": "c28cbd16",
   "metadata": {},
   "source": [
    "As we can see the mayority of the customers did not churn.\n",
    "\n",
    "We have an imbalanced dataset, there are three times as many people who did not churn as those who did churn."
   ]
  },
  {
   "cell_type": "code",
   "execution_count": 15,
   "id": "f7e73652",
   "metadata": {},
   "outputs": [
    {
     "name": "stdout",
     "output_type": "stream",
     "text": [
      "Churn rate: 0.27\n"
     ]
    }
   ],
   "source": [
    "global_mean = round(df['Churn'].mean(), 2)\n",
    "print(\"Churn rate: {}\".format(global_mean))"
   ]
  },
  {
   "cell_type": "code",
   "execution_count": 16,
   "id": "2c15b41f",
   "metadata": {},
   "outputs": [
    {
     "data": {
      "text/plain": [
       "0    5174\n",
       "1    1869\n",
       "Name: Churn, dtype: int64"
      ]
     },
     "execution_count": 16,
     "metadata": {},
     "output_type": "execute_result"
    },
    {
     "data": {
      "image/png": "[encoded data removed]",
      "text/plain": [
       "<Figure size 432x288 with 1 Axes>"
      ]
     },
     "metadata": {},
     "output_type": "display_data"
    }
   ],
   "source": [
    "plt.figure(figsize=(6,4))\n",
    "\n",
    "sns.countplot(data = df, x='Churn', palette=['#B0C4DE','#DCDCDC'])\n",
    "plt.title('Target variable distribution plot')\n",
    "\n",
    "df['Churn'].value_counts()"
   ]
  },
  {
   "cell_type": "markdown",
   "id": "c38fd02e",
   "metadata": {},
   "source": [
    "<a name=\"ap2_3\"></a>\n",
    "## 2.3. Numerical variables"
   ]
  },
  {
   "cell_type": "code",
   "execution_count": 17,
   "id": "59ff85cb",
   "metadata": {},
   "outputs": [
    {
     "name": "stdout",
     "output_type": "stream",
     "text": [
      "There are 3 numerical variables: \n",
      "['tenure', 'MonthlyCharges', 'TotalCharges']\n"
     ]
    }
   ],
   "source": [
    "print('There are {} numerical variables: \\n{}'.format(len(numCols), numCols))"
   ]
  },
  {
   "cell_type": "markdown",
   "id": "2a672155",
   "metadata": {},
   "source": [
    "### Dependency with target variable"
   ]
  },
  {
   "cell_type": "markdown",
   "id": "ec22fed3",
   "metadata": {},
   "source": [
    "<a name=\"ap2_3_1\"></a>\n",
    "### 2.3.1. Visualization"
   ]
  },
  {
   "cell_type": "markdown",
   "id": "bcd63bb0",
   "metadata": {},
   "source": [
    "Let's plot these numerical variables for analizing it distribution for both churn values."
   ]
  },
  {
   "cell_type": "code",
   "execution_count": 18,
   "id": "986bc28c",
   "metadata": {},
   "outputs": [
    {
     "data": {
      "image/png": "[encoded data removed]",
      "text/plain": [
       "<Figure size 1296x432 with 3 Axes>"
      ]
     },
     "metadata": {},
     "output_type": "display_data"
    }
   ],
   "source": [
    "n_cols = 3\n",
    "n_rows = 1\n",
    "n_num = 0\n",
    "\n",
    "fig, axarr = plt.subplots(n_rows, n_cols, figsize=(18, 6))\n",
    "\n",
    "for column in np.arange(n_cols):\n",
    "    sns.boxplot(y=numCols[n_num], x='Churn', data=df, ax=axarr[column], palette=['#B0C4DE','#DCDCDC'])\n",
    "    n_num+=1\n",
    "\n",
    "plt.show()"
   ]
  },
  {
   "cell_type": "markdown",
   "id": "d76e8177",
   "metadata": {},
   "source": [
    "+ We can see that the distribution of values change depending of the churn value for each feature.\n",
    "+ For tenure (churn=1) and total charges (churn=1) we can see some outliers so we should remove these observations from the dataset. That is because they are noise for the model and its performance could be afected."
   ]
  },
  {
   "cell_type": "markdown",
   "id": "c1eaa830",
   "metadata": {},
   "source": [
    "<a name=\"ap2_3_2\"></a>\n",
    "### 2.3.2. Correlation"
   ]
  },
  {
   "cell_type": "markdown",
   "id": "0fad6d5e",
   "metadata": {},
   "source": [
    "For numerical variables, we can measure the dependency between them and the target variable churn. The method selected is correlation:"
   ]
  },
  {
   "cell_type": "code",
   "execution_count": 19,
   "id": "94f3f96a",
   "metadata": {},
   "outputs": [
    {
     "name": "stdout",
     "output_type": "stream",
     "text": [
      "Churn             1.000000\n",
      "MonthlyCharges    0.193356\n",
      "TotalCharges     -0.199484\n",
      "tenure           -0.352229\n",
      "dtype: float64\n"
     ]
    }
   ],
   "source": [
    "df.Churn.astype(int)\n",
    "\n",
    "corr = df.corrwith(df.Churn).sort_values(ascending=False)\n",
    "print(corr)"
   ]
  },
  {
   "cell_type": "markdown",
   "id": "f41961c4",
   "metadata": {},
   "source": [
    "+ Tenure (`-0.35`):  The longer customers stay, the less often they tend to churn.\n",
    "+ Monthly charges (`0.19`): Customers who pay more tend to leave more often.\n",
    "+ Total charges: (`-0.19`): The longer people stay with the company, the more they have paid in total, so it’s less likely that they will leave."
   ]
  },
  {
   "cell_type": "markdown",
   "id": "b696df22",
   "metadata": {},
   "source": [
    "<a name=\"ap2_4\"></a>\n",
    "## 2.4. Categorical variables"
   ]
  },
  {
   "cell_type": "code",
   "execution_count": 20,
   "id": "fce1e1e5",
   "metadata": {},
   "outputs": [
    {
     "name": "stdout",
     "output_type": "stream",
     "text": [
      "There are 16 categorical variables: \n",
      "['gender', 'SeniorCitizen', 'Partner', 'Dependents', 'PhoneService', 'MultipleLines', 'InternetService', 'OnlineSecurity', 'OnlineBackup', 'DeviceProtection', 'TechSupport', 'StreamingTV', 'StreamingMovies', 'Contract', 'PaperlessBilling', 'PaymentMethod']\n"
     ]
    }
   ],
   "source": [
    "print('There are {} categorical variables: \\n{}'.format(len(catCols), catCols))"
   ]
  },
  {
   "cell_type": "markdown",
   "id": "87352c43",
   "metadata": {},
   "source": [
    "### Dependency with target variable"
   ]
  },
  {
   "cell_type": "markdown",
   "id": "8ff00e2f",
   "metadata": {},
   "source": [
    "<a name=\"ap2_4_1\"></a>\n",
    "### 2.4.1. Visualization"
   ]
  },
  {
   "cell_type": "markdown",
   "id": "9138d027",
   "metadata": {},
   "source": [
    "Let's plot these categorical variables to analize their dependency with the target variable:"
   ]
  },
  {
   "cell_type": "code",
   "execution_count": 21,
   "id": "4fbdae48",
   "metadata": {},
   "outputs": [
    {
     "data": {
      "image/png": "[encoded data removed]",
      "text/plain": [
       "<Figure size 1440x2880 with 16 Axes>"
      ]
     },
     "metadata": {},
     "output_type": "display_data"
    }
   ],
   "source": [
    "n_cols = 2\n",
    "n_rows = 8\n",
    "n_cat = 0\n",
    "\n",
    "fig, axarr = plt.subplots(n_rows, n_cols, figsize=(20, 40))\n",
    "\n",
    "for row in np.arange(n_rows):\n",
    "    for column in np.arange(n_cols):\n",
    "        sns.countplot(x=catCols[n_cat], hue='Churn', data=df, ax=axarr[row][column], palette=['#B0C4DE','#DCDCDC'])\n",
    "        n_cat+=1"
   ]
  },
  {
   "cell_type": "markdown",
   "id": "f8e99642",
   "metadata": {},
   "source": [
    "+ We can see that the distribution of values change depending of the churn value for each feature."
   ]
  },
  {
   "cell_type": "markdown",
   "id": "99143dc1",
   "metadata": {},
   "source": [
    "<a name=\"ap2_4_2\"></a>\n",
    "### 2.4.2. Chi2 score"
   ]
  },
  {
   "cell_type": "markdown",
   "id": "368e50b5",
   "metadata": {},
   "source": [
    "For measuring the dependency of our categorical variables and the target variable, we use `chi2`. We select the best 8 features with the highest value."
   ]
  },
  {
   "cell_type": "code",
   "execution_count": 22,
   "id": "f94f83fa",
   "metadata": {},
   "outputs": [
    {
     "name": "stdout",
     "output_type": "stream",
     "text": [
      "The eight selected features are:\n",
      "\n",
      " ['InternetService_Fiber optic', 'OnlineSecurity_No', 'TechSupport_No', 'StreamingTV_No internet service', 'StreamingMovies_No internet service', 'Contract_Month-to-month', 'Contract_Two year', 'PaymentMethod_Electronic check']\n"
     ]
    }
   ],
   "source": [
    "X_cat = pd.get_dummies(X[catCols])\n",
    "\n",
    "feature_selection = SelectKBest(chi2, k=8)\n",
    "feature_selection.fit(X_cat, y)\n",
    "selected_features = list(X_cat.columns[feature_selection.get_support()])\n",
    "\n",
    "print(\"The eight selected features are:\\n\\n\", selected_features)"
   ]
  },
  {
   "cell_type": "markdown",
   "id": "32154eae",
   "metadata": {},
   "source": [
    "Their corresponding scores are the following:"
   ]
  },
  {
   "cell_type": "code",
   "execution_count": 23,
   "id": "7fd1aafb",
   "metadata": {},
   "outputs": [
    {
     "data": {
      "text/html": [
       "<div>\n",
       "<style scoped>\n",
       "    .dataframe tbody tr th:only-of-type {\n",
       "        vertical-align: middle;\n",
       "    }\n",
       "\n",
       "    .dataframe tbody tr th {\n",
       "        vertical-align: top;\n",
       "    }\n",
       "\n",
       "    .dataframe thead th {\n",
       "        text-align: right;\n",
       "    }\n",
       "</style>\n",
       "<table border=\"1\" class=\"dataframe\">\n",
       "  <thead>\n",
       "    <tr style=\"text-align: right;\">\n",
       "      <th></th>\n",
       "      <th>Features selected</th>\n",
       "      <th>chi2 scores</th>\n",
       "    </tr>\n",
       "  </thead>\n",
       "  <tbody>\n",
       "    <tr>\n",
       "      <th>3</th>\n",
       "      <td>StreamingTV_No internet service</td>\n",
       "      <td>133.482766</td>\n",
       "    </tr>\n",
       "    <tr>\n",
       "      <th>7</th>\n",
       "      <td>PaymentMethod_Electronic check</td>\n",
       "      <td>131.271509</td>\n",
       "    </tr>\n",
       "    <tr>\n",
       "      <th>5</th>\n",
       "      <td>Contract_Month-to-month</td>\n",
       "      <td>81.857769</td>\n",
       "    </tr>\n",
       "    <tr>\n",
       "      <th>4</th>\n",
       "      <td>StreamingMovies_No internet service</td>\n",
       "      <td>76.324103</td>\n",
       "    </tr>\n",
       "    <tr>\n",
       "      <th>6</th>\n",
       "      <td>Contract_Two year</td>\n",
       "      <td>55.856253</td>\n",
       "    </tr>\n",
       "    <tr>\n",
       "      <th>2</th>\n",
       "      <td>TechSupport_No</td>\n",
       "      <td>25.880699</td>\n",
       "    </tr>\n",
       "    <tr>\n",
       "      <th>0</th>\n",
       "      <td>InternetService_Fiber optic</td>\n",
       "      <td>0.259116</td>\n",
       "    </tr>\n",
       "    <tr>\n",
       "      <th>1</th>\n",
       "      <td>OnlineSecurity_No</td>\n",
       "      <td>0.254297</td>\n",
       "    </tr>\n",
       "  </tbody>\n",
       "</table>\n",
       "</div>"
      ],
      "text/plain": [
       "                     Features selected  chi2 scores\n",
       "3      StreamingTV_No internet service   133.482766\n",
       "7       PaymentMethod_Electronic check   131.271509\n",
       "5              Contract_Month-to-month    81.857769\n",
       "4  StreamingMovies_No internet service    76.324103\n",
       "6                    Contract_Two year    55.856253\n",
       "2                       TechSupport_No    25.880699\n",
       "0          InternetService_Fiber optic     0.259116\n",
       "1                    OnlineSecurity_No     0.254297"
      ]
     },
     "execution_count": 23,
     "metadata": {},
     "output_type": "execute_result"
    }
   ],
   "source": [
    "results = pd.DataFrame(list(zip(selected_features, feature_selection.scores_)), columns=['Features selected', 'chi2 scores'])\n",
    "results.sort_values(by='chi2 scores', ascending=False)"
   ]
  },
  {
   "cell_type": "markdown",
   "id": "aa53e6f7",
   "metadata": {},
   "source": [
    "<a name=\"ap3\"></a>\n",
    "# 3. Data Preprocessing and Feature engineering"
   ]
  },
  {
   "cell_type": "markdown",
   "id": "562c6813",
   "metadata": {},
   "source": [
    "<a name=\"ap3_1\"></a>\n",
    "## 3.1. Feature Scaling"
   ]
  },
  {
   "cell_type": "markdown",
   "id": "f45b36a7",
   "metadata": {},
   "source": [
    "It is highly recommended to scale the numerical features before training the model to achieve a better performance."
   ]
  },
  {
   "cell_type": "code",
   "execution_count": 24,
   "id": "46bae33a",
   "metadata": {},
   "outputs": [],
   "source": [
    "scaler = StandardScaler()\n",
    "X[numCols] = scaler.fit_transform(X[numCols])"
   ]
  },
  {
   "cell_type": "markdown",
   "id": "17d8ff4e",
   "metadata": {},
   "source": [
    "<a name=\"ap3_2\"></a>\n",
    "## 3.2. One-hot Encoding"
   ]
  },
  {
   "cell_type": "markdown",
   "id": "e9a1a6b1",
   "metadata": {},
   "source": [
    "Now we encode our categorical variables converting them into dummy features:"
   ]
  },
  {
   "cell_type": "code",
   "execution_count": 25,
   "id": "0467d443",
   "metadata": {},
   "outputs": [
    {
     "name": "stdout",
     "output_type": "stream",
     "text": [
      "X shape: (7032, 46)\n",
      "\n"
     ]
    }
   ],
   "source": [
    "X = pd.get_dummies(X)\n",
    "\n",
    "print(\"X shape: {}\\n\".format(X.shape))"
   ]
  },
  {
   "cell_type": "code",
   "execution_count": 26,
   "id": "56ab1fd3",
   "metadata": {},
   "outputs": [
    {
     "data": {
      "text/html": [
       "<div>\n",
       "<style scoped>\n",
       "    .dataframe tbody tr th:only-of-type {\n",
       "        vertical-align: middle;\n",
       "    }\n",
       "\n",
       "    .dataframe tbody tr th {\n",
       "        vertical-align: top;\n",
       "    }\n",
       "\n",
       "    .dataframe thead th {\n",
       "        text-align: right;\n",
       "    }\n",
       "</style>\n",
       "<table border=\"1\" class=\"dataframe\">\n",
       "  <thead>\n",
       "    <tr style=\"text-align: right;\">\n",
       "      <th></th>\n",
       "      <th>0</th>\n",
       "      <th>1</th>\n",
       "      <th>2</th>\n",
       "      <th>3</th>\n",
       "      <th>4</th>\n",
       "    </tr>\n",
       "  </thead>\n",
       "  <tbody>\n",
       "    <tr>\n",
       "      <th>tenure</th>\n",
       "      <td>-1.280248</td>\n",
       "      <td>0.064303</td>\n",
       "      <td>-1.239504</td>\n",
       "      <td>0.512486</td>\n",
       "      <td>-1.239504</td>\n",
       "    </tr>\n",
       "    <tr>\n",
       "      <th>MonthlyCharges</th>\n",
       "      <td>-1.161694</td>\n",
       "      <td>-0.260878</td>\n",
       "      <td>-0.363923</td>\n",
       "      <td>-0.747850</td>\n",
       "      <td>0.196178</td>\n",
       "    </tr>\n",
       "    <tr>\n",
       "      <th>TotalCharges</th>\n",
       "      <td>-0.994194</td>\n",
       "      <td>-0.173740</td>\n",
       "      <td>-0.959649</td>\n",
       "      <td>-0.195248</td>\n",
       "      <td>-0.940457</td>\n",
       "    </tr>\n",
       "    <tr>\n",
       "      <th>gender_Female</th>\n",
       "      <td>1.000000</td>\n",
       "      <td>0.000000</td>\n",
       "      <td>0.000000</td>\n",
       "      <td>0.000000</td>\n",
       "      <td>1.000000</td>\n",
       "    </tr>\n",
       "    <tr>\n",
       "      <th>gender_Male</th>\n",
       "      <td>0.000000</td>\n",
       "      <td>1.000000</td>\n",
       "      <td>1.000000</td>\n",
       "      <td>1.000000</td>\n",
       "      <td>0.000000</td>\n",
       "    </tr>\n",
       "    <tr>\n",
       "      <th>SeniorCitizen_No</th>\n",
       "      <td>1.000000</td>\n",
       "      <td>1.000000</td>\n",
       "      <td>1.000000</td>\n",
       "      <td>1.000000</td>\n",
       "      <td>1.000000</td>\n",
       "    </tr>\n",
       "    <tr>\n",
       "      <th>SeniorCitizen_yes</th>\n",
       "      <td>0.000000</td>\n",
       "      <td>0.000000</td>\n",
       "      <td>0.000000</td>\n",
       "      <td>0.000000</td>\n",
       "      <td>0.000000</td>\n",
       "    </tr>\n",
       "    <tr>\n",
       "      <th>Partner_No</th>\n",
       "      <td>0.000000</td>\n",
       "      <td>1.000000</td>\n",
       "      <td>1.000000</td>\n",
       "      <td>1.000000</td>\n",
       "      <td>1.000000</td>\n",
       "    </tr>\n",
       "    <tr>\n",
       "      <th>Partner_Yes</th>\n",
       "      <td>1.000000</td>\n",
       "      <td>0.000000</td>\n",
       "      <td>0.000000</td>\n",
       "      <td>0.000000</td>\n",
       "      <td>0.000000</td>\n",
       "    </tr>\n",
       "    <tr>\n",
       "      <th>Dependents_No</th>\n",
       "      <td>1.000000</td>\n",
       "      <td>1.000000</td>\n",
       "      <td>1.000000</td>\n",
       "      <td>1.000000</td>\n",
       "      <td>1.000000</td>\n",
       "    </tr>\n",
       "    <tr>\n",
       "      <th>Dependents_Yes</th>\n",
       "      <td>0.000000</td>\n",
       "      <td>0.000000</td>\n",
       "      <td>0.000000</td>\n",
       "      <td>0.000000</td>\n",
       "      <td>0.000000</td>\n",
       "    </tr>\n",
       "    <tr>\n",
       "      <th>PhoneService_No</th>\n",
       "      <td>1.000000</td>\n",
       "      <td>0.000000</td>\n",
       "      <td>0.000000</td>\n",
       "      <td>1.000000</td>\n",
       "      <td>0.000000</td>\n",
       "    </tr>\n",
       "    <tr>\n",
       "      <th>PhoneService_Yes</th>\n",
       "      <td>0.000000</td>\n",
       "      <td>1.000000</td>\n",
       "      <td>1.000000</td>\n",
       "      <td>0.000000</td>\n",
       "      <td>1.000000</td>\n",
       "    </tr>\n",
       "    <tr>\n",
       "      <th>MultipleLines_No</th>\n",
       "      <td>0.000000</td>\n",
       "      <td>1.000000</td>\n",
       "      <td>1.000000</td>\n",
       "      <td>0.000000</td>\n",
       "      <td>1.000000</td>\n",
       "    </tr>\n",
       "    <tr>\n",
       "      <th>MultipleLines_No phone service</th>\n",
       "      <td>1.000000</td>\n",
       "      <td>0.000000</td>\n",
       "      <td>0.000000</td>\n",
       "      <td>1.000000</td>\n",
       "      <td>0.000000</td>\n",
       "    </tr>\n",
       "    <tr>\n",
       "      <th>MultipleLines_Yes</th>\n",
       "      <td>0.000000</td>\n",
       "      <td>0.000000</td>\n",
       "      <td>0.000000</td>\n",
       "      <td>0.000000</td>\n",
       "      <td>0.000000</td>\n",
       "    </tr>\n",
       "    <tr>\n",
       "      <th>InternetService_DSL</th>\n",
       "      <td>1.000000</td>\n",
       "      <td>1.000000</td>\n",
       "      <td>1.000000</td>\n",
       "      <td>1.000000</td>\n",
       "      <td>0.000000</td>\n",
       "    </tr>\n",
       "    <tr>\n",
       "      <th>InternetService_Fiber optic</th>\n",
       "      <td>0.000000</td>\n",
       "      <td>0.000000</td>\n",
       "      <td>0.000000</td>\n",
       "      <td>0.000000</td>\n",
       "      <td>1.000000</td>\n",
       "    </tr>\n",
       "    <tr>\n",
       "      <th>InternetService_No</th>\n",
       "      <td>0.000000</td>\n",
       "      <td>0.000000</td>\n",
       "      <td>0.000000</td>\n",
       "      <td>0.000000</td>\n",
       "      <td>0.000000</td>\n",
       "    </tr>\n",
       "    <tr>\n",
       "      <th>OnlineSecurity_No</th>\n",
       "      <td>1.000000</td>\n",
       "      <td>0.000000</td>\n",
       "      <td>0.000000</td>\n",
       "      <td>0.000000</td>\n",
       "      <td>1.000000</td>\n",
       "    </tr>\n",
       "    <tr>\n",
       "      <th>OnlineSecurity_No internet service</th>\n",
       "      <td>0.000000</td>\n",
       "      <td>0.000000</td>\n",
       "      <td>0.000000</td>\n",
       "      <td>0.000000</td>\n",
       "      <td>0.000000</td>\n",
       "    </tr>\n",
       "    <tr>\n",
       "      <th>OnlineSecurity_Yes</th>\n",
       "      <td>0.000000</td>\n",
       "      <td>1.000000</td>\n",
       "      <td>1.000000</td>\n",
       "      <td>1.000000</td>\n",
       "      <td>0.000000</td>\n",
       "    </tr>\n",
       "    <tr>\n",
       "      <th>OnlineBackup_No</th>\n",
       "      <td>0.000000</td>\n",
       "      <td>1.000000</td>\n",
       "      <td>0.000000</td>\n",
       "      <td>1.000000</td>\n",
       "      <td>1.000000</td>\n",
       "    </tr>\n",
       "    <tr>\n",
       "      <th>OnlineBackup_No internet service</th>\n",
       "      <td>0.000000</td>\n",
       "      <td>0.000000</td>\n",
       "      <td>0.000000</td>\n",
       "      <td>0.000000</td>\n",
       "      <td>0.000000</td>\n",
       "    </tr>\n",
       "    <tr>\n",
       "      <th>OnlineBackup_Yes</th>\n",
       "      <td>1.000000</td>\n",
       "      <td>0.000000</td>\n",
       "      <td>1.000000</td>\n",
       "      <td>0.000000</td>\n",
       "      <td>0.000000</td>\n",
       "    </tr>\n",
       "    <tr>\n",
       "      <th>DeviceProtection_No</th>\n",
       "      <td>1.000000</td>\n",
       "      <td>0.000000</td>\n",
       "      <td>1.000000</td>\n",
       "      <td>0.000000</td>\n",
       "      <td>1.000000</td>\n",
       "    </tr>\n",
       "    <tr>\n",
       "      <th>DeviceProtection_No internet service</th>\n",
       "      <td>0.000000</td>\n",
       "      <td>0.000000</td>\n",
       "      <td>0.000000</td>\n",
       "      <td>0.000000</td>\n",
       "      <td>0.000000</td>\n",
       "    </tr>\n",
       "    <tr>\n",
       "      <th>DeviceProtection_Yes</th>\n",
       "      <td>0.000000</td>\n",
       "      <td>1.000000</td>\n",
       "      <td>0.000000</td>\n",
       "      <td>1.000000</td>\n",
       "      <td>0.000000</td>\n",
       "    </tr>\n",
       "    <tr>\n",
       "      <th>TechSupport_No</th>\n",
       "      <td>1.000000</td>\n",
       "      <td>1.000000</td>\n",
       "      <td>1.000000</td>\n",
       "      <td>0.000000</td>\n",
       "      <td>1.000000</td>\n",
       "    </tr>\n",
       "    <tr>\n",
       "      <th>TechSupport_No internet service</th>\n",
       "      <td>0.000000</td>\n",
       "      <td>0.000000</td>\n",
       "      <td>0.000000</td>\n",
       "      <td>0.000000</td>\n",
       "      <td>0.000000</td>\n",
       "    </tr>\n",
       "    <tr>\n",
       "      <th>TechSupport_Yes</th>\n",
       "      <td>0.000000</td>\n",
       "      <td>0.000000</td>\n",
       "      <td>0.000000</td>\n",
       "      <td>1.000000</td>\n",
       "      <td>0.000000</td>\n",
       "    </tr>\n",
       "    <tr>\n",
       "      <th>StreamingTV_No</th>\n",
       "      <td>1.000000</td>\n",
       "      <td>1.000000</td>\n",
       "      <td>1.000000</td>\n",
       "      <td>1.000000</td>\n",
       "      <td>1.000000</td>\n",
       "    </tr>\n",
       "    <tr>\n",
       "      <th>StreamingTV_No internet service</th>\n",
       "      <td>0.000000</td>\n",
       "      <td>0.000000</td>\n",
       "      <td>0.000000</td>\n",
       "      <td>0.000000</td>\n",
       "      <td>0.000000</td>\n",
       "    </tr>\n",
       "    <tr>\n",
       "      <th>StreamingTV_Yes</th>\n",
       "      <td>0.000000</td>\n",
       "      <td>0.000000</td>\n",
       "      <td>0.000000</td>\n",
       "      <td>0.000000</td>\n",
       "      <td>0.000000</td>\n",
       "    </tr>\n",
       "    <tr>\n",
       "      <th>StreamingMovies_No</th>\n",
       "      <td>1.000000</td>\n",
       "      <td>1.000000</td>\n",
       "      <td>1.000000</td>\n",
       "      <td>1.000000</td>\n",
       "      <td>1.000000</td>\n",
       "    </tr>\n",
       "    <tr>\n",
       "      <th>StreamingMovies_No internet service</th>\n",
       "      <td>0.000000</td>\n",
       "      <td>0.000000</td>\n",
       "      <td>0.000000</td>\n",
       "      <td>0.000000</td>\n",
       "      <td>0.000000</td>\n",
       "    </tr>\n",
       "    <tr>\n",
       "      <th>StreamingMovies_Yes</th>\n",
       "      <td>0.000000</td>\n",
       "      <td>0.000000</td>\n",
       "      <td>0.000000</td>\n",
       "      <td>0.000000</td>\n",
       "      <td>0.000000</td>\n",
       "    </tr>\n",
       "    <tr>\n",
       "      <th>Contract_Month-to-month</th>\n",
       "      <td>1.000000</td>\n",
       "      <td>0.000000</td>\n",
       "      <td>1.000000</td>\n",
       "      <td>0.000000</td>\n",
       "      <td>1.000000</td>\n",
       "    </tr>\n",
       "    <tr>\n",
       "      <th>Contract_One year</th>\n",
       "      <td>0.000000</td>\n",
       "      <td>1.000000</td>\n",
       "      <td>0.000000</td>\n",
       "      <td>1.000000</td>\n",
       "      <td>0.000000</td>\n",
       "    </tr>\n",
       "    <tr>\n",
       "      <th>Contract_Two year</th>\n",
       "      <td>0.000000</td>\n",
       "      <td>0.000000</td>\n",
       "      <td>0.000000</td>\n",
       "      <td>0.000000</td>\n",
       "      <td>0.000000</td>\n",
       "    </tr>\n",
       "    <tr>\n",
       "      <th>PaperlessBilling_No</th>\n",
       "      <td>0.000000</td>\n",
       "      <td>1.000000</td>\n",
       "      <td>0.000000</td>\n",
       "      <td>1.000000</td>\n",
       "      <td>0.000000</td>\n",
       "    </tr>\n",
       "    <tr>\n",
       "      <th>PaperlessBilling_Yes</th>\n",
       "      <td>1.000000</td>\n",
       "      <td>0.000000</td>\n",
       "      <td>1.000000</td>\n",
       "      <td>0.000000</td>\n",
       "      <td>1.000000</td>\n",
       "    </tr>\n",
       "    <tr>\n",
       "      <th>PaymentMethod_Bank transfer (automatic)</th>\n",
       "      <td>0.000000</td>\n",
       "      <td>0.000000</td>\n",
       "      <td>0.000000</td>\n",
       "      <td>1.000000</td>\n",
       "      <td>0.000000</td>\n",
       "    </tr>\n",
       "    <tr>\n",
       "      <th>PaymentMethod_Credit card (automatic)</th>\n",
       "      <td>0.000000</td>\n",
       "      <td>0.000000</td>\n",
       "      <td>0.000000</td>\n",
       "      <td>0.000000</td>\n",
       "      <td>0.000000</td>\n",
       "    </tr>\n",
       "    <tr>\n",
       "      <th>PaymentMethod_Electronic check</th>\n",
       "      <td>1.000000</td>\n",
       "      <td>0.000000</td>\n",
       "      <td>0.000000</td>\n",
       "      <td>0.000000</td>\n",
       "      <td>1.000000</td>\n",
       "    </tr>\n",
       "    <tr>\n",
       "      <th>PaymentMethod_Mailed check</th>\n",
       "      <td>0.000000</td>\n",
       "      <td>1.000000</td>\n",
       "      <td>1.000000</td>\n",
       "      <td>0.000000</td>\n",
       "      <td>0.000000</td>\n",
       "    </tr>\n",
       "  </tbody>\n",
       "</table>\n",
       "</div>"
      ],
      "text/plain": [
       "                                                0         1         2  \\\n",
       "tenure                                  -1.280248  0.064303 -1.239504   \n",
       "MonthlyCharges                          -1.161694 -0.260878 -0.363923   \n",
       "TotalCharges                            -0.994194 -0.173740 -0.959649   \n",
       "gender_Female                            1.000000  0.000000  0.000000   \n",
       "gender_Male                              0.000000  1.000000  1.000000   \n",
       "SeniorCitizen_No                         1.000000  1.000000  1.000000   \n",
       "SeniorCitizen_yes                        0.000000  0.000000  0.000000   \n",
       "Partner_No                               0.000000  1.000000  1.000000   \n",
       "Partner_Yes                              1.000000  0.000000  0.000000   \n",
       "Dependents_No                            1.000000  1.000000  1.000000   \n",
       "Dependents_Yes                           0.000000  0.000000  0.000000   \n",
       "PhoneService_No                          1.000000  0.000000  0.000000   \n",
       "PhoneService_Yes                         0.000000  1.000000  1.000000   \n",
       "MultipleLines_No                         0.000000  1.000000  1.000000   \n",
       "MultipleLines_No phone service           1.000000  0.000000  0.000000   \n",
       "MultipleLines_Yes                        0.000000  0.000000  0.000000   \n",
       "InternetService_DSL                      1.000000  1.000000  1.000000   \n",
       "InternetService_Fiber optic              0.000000  0.000000  0.000000   \n",
       "InternetService_No                       0.000000  0.000000  0.000000   \n",
       "OnlineSecurity_No                        1.000000  0.000000  0.000000   \n",
       "OnlineSecurity_No internet service       0.000000  0.000000  0.000000   \n",
       "OnlineSecurity_Yes                       0.000000  1.000000  1.000000   \n",
       "OnlineBackup_No                          0.000000  1.000000  0.000000   \n",
       "OnlineBackup_No internet service         0.000000  0.000000  0.000000   \n",
       "OnlineBackup_Yes                         1.000000  0.000000  1.000000   \n",
       "DeviceProtection_No                      1.000000  0.000000  1.000000   \n",
       "DeviceProtection_No internet service     0.000000  0.000000  0.000000   \n",
       "DeviceProtection_Yes                     0.000000  1.000000  0.000000   \n",
       "TechSupport_No                           1.000000  1.000000  1.000000   \n",
       "TechSupport_No internet service          0.000000  0.000000  0.000000   \n",
       "TechSupport_Yes                          0.000000  0.000000  0.000000   \n",
       "StreamingTV_No                           1.000000  1.000000  1.000000   \n",
       "StreamingTV_No internet service          0.000000  0.000000  0.000000   \n",
       "StreamingTV_Yes                          0.000000  0.000000  0.000000   \n",
       "StreamingMovies_No                       1.000000  1.000000  1.000000   \n",
       "StreamingMovies_No internet service      0.000000  0.000000  0.000000   \n",
       "StreamingMovies_Yes                      0.000000  0.000000  0.000000   \n",
       "Contract_Month-to-month                  1.000000  0.000000  1.000000   \n",
       "Contract_One year                        0.000000  1.000000  0.000000   \n",
       "Contract_Two year                        0.000000  0.000000  0.000000   \n",
       "PaperlessBilling_No                      0.000000  1.000000  0.000000   \n",
       "PaperlessBilling_Yes                     1.000000  0.000000  1.000000   \n",
       "PaymentMethod_Bank transfer (automatic)  0.000000  0.000000  0.000000   \n",
       "PaymentMethod_Credit card (automatic)    0.000000  0.000000  0.000000   \n",
       "PaymentMethod_Electronic check           1.000000  0.000000  0.000000   \n",
       "PaymentMethod_Mailed check               0.000000  1.000000  1.000000   \n",
       "\n",
       "                                                3         4  \n",
       "tenure                                   0.512486 -1.239504  \n",
       "MonthlyCharges                          -0.747850  0.196178  \n",
       "TotalCharges                            -0.195248 -0.940457  \n",
       "gender_Female                            0.000000  1.000000  \n",
       "gender_Male                              1.000000  0.000000  \n",
       "SeniorCitizen_No                         1.000000  1.000000  \n",
       "SeniorCitizen_yes                        0.000000  0.000000  \n",
       "Partner_No                               1.000000  1.000000  \n",
       "Partner_Yes                              0.000000  0.000000  \n",
       "Dependents_No                            1.000000  1.000000  \n",
       "Dependents_Yes                           0.000000  0.000000  \n",
       "PhoneService_No                          1.000000  0.000000  \n",
       "PhoneService_Yes                         0.000000  1.000000  \n",
       "MultipleLines_No                         0.000000  1.000000  \n",
       "MultipleLines_No phone service           1.000000  0.000000  \n",
       "MultipleLines_Yes                        0.000000  0.000000  \n",
       "InternetService_DSL                      1.000000  0.000000  \n",
       "InternetService_Fiber optic              0.000000  1.000000  \n",
       "InternetService_No                       0.000000  0.000000  \n",
       "OnlineSecurity_No                        0.000000  1.000000  \n",
       "OnlineSecurity_No internet service       0.000000  0.000000  \n",
       "OnlineSecurity_Yes                       1.000000  0.000000  \n",
       "OnlineBackup_No                          1.000000  1.000000  \n",
       "OnlineBackup_No internet service         0.000000  0.000000  \n",
       "OnlineBackup_Yes                         0.000000  0.000000  \n",
       "DeviceProtection_No                      0.000000  1.000000  \n",
       "DeviceProtection_No internet service     0.000000  0.000000  \n",
       "DeviceProtection_Yes                     1.000000  0.000000  \n",
       "TechSupport_No                           0.000000  1.000000  \n",
       "TechSupport_No internet service          0.000000  0.000000  \n",
       "TechSupport_Yes                          1.000000  0.000000  \n",
       "StreamingTV_No                           1.000000  1.000000  \n",
       "StreamingTV_No internet service          0.000000  0.000000  \n",
       "StreamingTV_Yes                          0.000000  0.000000  \n",
       "StreamingMovies_No                       1.000000  1.000000  \n",
       "StreamingMovies_No internet service      0.000000  0.000000  \n",
       "StreamingMovies_Yes                      0.000000  0.000000  \n",
       "Contract_Month-to-month                  0.000000  1.000000  \n",
       "Contract_One year                        1.000000  0.000000  \n",
       "Contract_Two year                        0.000000  0.000000  \n",
       "PaperlessBilling_No                      1.000000  0.000000  \n",
       "PaperlessBilling_Yes                     0.000000  1.000000  \n",
       "PaymentMethod_Bank transfer (automatic)  1.000000  0.000000  \n",
       "PaymentMethod_Credit card (automatic)    0.000000  0.000000  \n",
       "PaymentMethod_Electronic check           0.000000  1.000000  \n",
       "PaymentMethod_Mailed check               0.000000  0.000000  "
      ]
     },
     "execution_count": 26,
     "metadata": {},
     "output_type": "execute_result"
    }
   ],
   "source": [
    "X.head().T"
   ]
  },
  {
   "cell_type": "markdown",
   "id": "1a421fbc",
   "metadata": {},
   "source": [
    "We have all the data prepared. Therefore let's build our `Logistic Regression` model."
   ]
  },
  {
   "cell_type": "markdown",
   "id": "6649aee1",
   "metadata": {},
   "source": [
    "<a name=\"ap4\"></a>\n",
    "# 4. Model fitting and selection"
   ]
  },
  {
   "cell_type": "markdown",
   "id": "625d8782",
   "metadata": {},
   "source": [
    "### Selected features"
   ]
  },
  {
   "cell_type": "code",
   "execution_count": 27,
   "id": "8153618d",
   "metadata": {},
   "outputs": [
    {
     "data": {
      "text/html": [
       "<div>\n",
       "<style scoped>\n",
       "    .dataframe tbody tr th:only-of-type {\n",
       "        vertical-align: middle;\n",
       "    }\n",
       "\n",
       "    .dataframe tbody tr th {\n",
       "        vertical-align: top;\n",
       "    }\n",
       "\n",
       "    .dataframe thead th {\n",
       "        text-align: right;\n",
       "    }\n",
       "</style>\n",
       "<table border=\"1\" class=\"dataframe\">\n",
       "  <thead>\n",
       "    <tr style=\"text-align: right;\">\n",
       "      <th></th>\n",
       "      <th>0</th>\n",
       "      <th>1</th>\n",
       "      <th>2</th>\n",
       "      <th>3</th>\n",
       "      <th>4</th>\n",
       "    </tr>\n",
       "  </thead>\n",
       "  <tbody>\n",
       "    <tr>\n",
       "      <th>InternetService_Fiber optic</th>\n",
       "      <td>0.000000</td>\n",
       "      <td>0.000000</td>\n",
       "      <td>0.000000</td>\n",
       "      <td>0.000000</td>\n",
       "      <td>1.000000</td>\n",
       "    </tr>\n",
       "    <tr>\n",
       "      <th>OnlineSecurity_No</th>\n",
       "      <td>1.000000</td>\n",
       "      <td>0.000000</td>\n",
       "      <td>0.000000</td>\n",
       "      <td>0.000000</td>\n",
       "      <td>1.000000</td>\n",
       "    </tr>\n",
       "    <tr>\n",
       "      <th>TechSupport_No</th>\n",
       "      <td>1.000000</td>\n",
       "      <td>1.000000</td>\n",
       "      <td>1.000000</td>\n",
       "      <td>0.000000</td>\n",
       "      <td>1.000000</td>\n",
       "    </tr>\n",
       "    <tr>\n",
       "      <th>StreamingTV_No internet service</th>\n",
       "      <td>0.000000</td>\n",
       "      <td>0.000000</td>\n",
       "      <td>0.000000</td>\n",
       "      <td>0.000000</td>\n",
       "      <td>0.000000</td>\n",
       "    </tr>\n",
       "    <tr>\n",
       "      <th>StreamingMovies_No internet service</th>\n",
       "      <td>0.000000</td>\n",
       "      <td>0.000000</td>\n",
       "      <td>0.000000</td>\n",
       "      <td>0.000000</td>\n",
       "      <td>0.000000</td>\n",
       "    </tr>\n",
       "    <tr>\n",
       "      <th>Contract_Month-to-month</th>\n",
       "      <td>1.000000</td>\n",
       "      <td>0.000000</td>\n",
       "      <td>1.000000</td>\n",
       "      <td>0.000000</td>\n",
       "      <td>1.000000</td>\n",
       "    </tr>\n",
       "    <tr>\n",
       "      <th>Contract_Two year</th>\n",
       "      <td>0.000000</td>\n",
       "      <td>0.000000</td>\n",
       "      <td>0.000000</td>\n",
       "      <td>0.000000</td>\n",
       "      <td>0.000000</td>\n",
       "    </tr>\n",
       "    <tr>\n",
       "      <th>PaymentMethod_Electronic check</th>\n",
       "      <td>1.000000</td>\n",
       "      <td>0.000000</td>\n",
       "      <td>0.000000</td>\n",
       "      <td>0.000000</td>\n",
       "      <td>1.000000</td>\n",
       "    </tr>\n",
       "    <tr>\n",
       "      <th>tenure</th>\n",
       "      <td>-1.280248</td>\n",
       "      <td>0.064303</td>\n",
       "      <td>-1.239504</td>\n",
       "      <td>0.512486</td>\n",
       "      <td>-1.239504</td>\n",
       "    </tr>\n",
       "    <tr>\n",
       "      <th>MonthlyCharges</th>\n",
       "      <td>-1.161694</td>\n",
       "      <td>-0.260878</td>\n",
       "      <td>-0.363923</td>\n",
       "      <td>-0.747850</td>\n",
       "      <td>0.196178</td>\n",
       "    </tr>\n",
       "    <tr>\n",
       "      <th>TotalCharges</th>\n",
       "      <td>-0.994194</td>\n",
       "      <td>-0.173740</td>\n",
       "      <td>-0.959649</td>\n",
       "      <td>-0.195248</td>\n",
       "      <td>-0.940457</td>\n",
       "    </tr>\n",
       "  </tbody>\n",
       "</table>\n",
       "</div>"
      ],
      "text/plain": [
       "                                            0         1         2         3  \\\n",
       "InternetService_Fiber optic          0.000000  0.000000  0.000000  0.000000   \n",
       "OnlineSecurity_No                    1.000000  0.000000  0.000000  0.000000   \n",
       "TechSupport_No                       1.000000  1.000000  1.000000  0.000000   \n",
       "StreamingTV_No internet service      0.000000  0.000000  0.000000  0.000000   \n",
       "StreamingMovies_No internet service  0.000000  0.000000  0.000000  0.000000   \n",
       "Contract_Month-to-month              1.000000  0.000000  1.000000  0.000000   \n",
       "Contract_Two year                    0.000000  0.000000  0.000000  0.000000   \n",
       "PaymentMethod_Electronic check       1.000000  0.000000  0.000000  0.000000   \n",
       "tenure                              -1.280248  0.064303 -1.239504  0.512486   \n",
       "MonthlyCharges                      -1.161694 -0.260878 -0.363923 -0.747850   \n",
       "TotalCharges                        -0.994194 -0.173740 -0.959649 -0.195248   \n",
       "\n",
       "                                            4  \n",
       "InternetService_Fiber optic          1.000000  \n",
       "OnlineSecurity_No                    1.000000  \n",
       "TechSupport_No                       1.000000  \n",
       "StreamingTV_No internet service      0.000000  \n",
       "StreamingMovies_No internet service  0.000000  \n",
       "Contract_Month-to-month              1.000000  \n",
       "Contract_Two year                    0.000000  \n",
       "PaymentMethod_Electronic check       1.000000  \n",
       "tenure                              -1.239504  \n",
       "MonthlyCharges                       0.196178  \n",
       "TotalCharges                        -0.940457  "
      ]
     },
     "execution_count": 27,
     "metadata": {},
     "output_type": "execute_result"
    }
   ],
   "source": [
    "final_features = selected_features + numCols\n",
    "X = X[final_features]\n",
    "\n",
    "X.head().T"
   ]
  },
  {
   "cell_type": "markdown",
   "id": "0c411274",
   "metadata": {},
   "source": [
    "### Train and test sets"
   ]
  },
  {
   "cell_type": "markdown",
   "id": "11fe5ae1",
   "metadata": {},
   "source": [
    "We split our dataset into two parts: train and test sets:\n",
    "+ Train set: 80%.\n",
    "+ Test set: 20%."
   ]
  },
  {
   "cell_type": "code",
   "execution_count": 28,
   "id": "04569751",
   "metadata": {},
   "outputs": [],
   "source": [
    "X_train, X_test, y_train, y_test = train_test_split(X, y, test_size=0.2, random_state=1)"
   ]
  },
  {
   "cell_type": "markdown",
   "id": "b468b76a",
   "metadata": {},
   "source": [
    "<a name=\"ap4_1\"></a>\n",
    "## 4.1. Hyperparameter tunning"
   ]
  },
  {
   "cell_type": "markdown",
   "id": "daa2010a",
   "metadata": {},
   "source": [
    "The model we are going to train is the `Logistic Regression`. \n",
    "\n",
    "First, we tune its hyperparameters to achieve the best performance as possible."
   ]
  },
  {
   "cell_type": "code",
   "execution_count": 29,
   "id": "bee753c6",
   "metadata": {},
   "outputs": [],
   "source": [
    "model = LogisticRegression(solver='liblinear', random_state=1)"
   ]
  },
  {
   "cell_type": "code",
   "execution_count": 30,
   "id": "eed49744",
   "metadata": {},
   "outputs": [
    {
     "data": {
      "text/plain": [
       "GridSearchCV(cv=10,\n",
       "             estimator=LogisticRegression(random_state=1, solver='liblinear'),\n",
       "             param_grid={'C': [0.01, 0.1, 0.5, 1, 10, 50, 100]},\n",
       "             scoring='roc_auc')"
      ]
     },
     "execution_count": 30,
     "metadata": {},
     "output_type": "execute_result"
    }
   ],
   "source": [
    "params = {'C': [0.01, 0.1, 0.5, 1, 10, 50, 100]}\n",
    "\n",
    "model_cv = GridSearchCV(model, param_grid=params, scoring='roc_auc', cv=10)\n",
    "model_cv.fit(X_train, y_train)"
   ]
  },
  {
   "cell_type": "code",
   "execution_count": 31,
   "id": "4d18153a",
   "metadata": {},
   "outputs": [
    {
     "name": "stdout",
     "output_type": "stream",
     "text": [
      "        params  mean_test_score\n",
      "0  {'C': 0.01}         0.829336\n",
      "1   {'C': 0.1}         0.838439\n",
      "2   {'C': 0.5}         0.839783\n",
      "3     {'C': 1}         0.839952\n",
      "4    {'C': 10}         0.839992\n",
      "5    {'C': 50}         0.840025\n",
      "6   {'C': 100}         0.840021\n"
     ]
    }
   ],
   "source": [
    "cv_results = pd.DataFrame(model_cv.cv_results_)[['params', 'mean_test_score']]\n",
    "print(cv_results)"
   ]
  },
  {
   "cell_type": "code",
   "execution_count": 32,
   "id": "9e5f26b7",
   "metadata": {},
   "outputs": [
    {
     "name": "stdout",
     "output_type": "stream",
     "text": [
      "Best param C: {'C': 50} \n",
      "Best ROC: 0.8400245925346678 \n"
     ]
    }
   ],
   "source": [
    "print('Best param C: {} \\nBest ROC: {} '.format(model_cv.best_params_,model_cv.best_score_))"
   ]
  },
  {
   "cell_type": "markdown",
   "id": "d2fc6ff1",
   "metadata": {},
   "source": [
    "Having the model hyperparameters, let's implement it!"
   ]
  },
  {
   "cell_type": "markdown",
   "id": "c2d325b1",
   "metadata": {},
   "source": [
    "<a name=\"ap4_2\"></a>\n",
    "## 4.2. Model selected"
   ]
  },
  {
   "cell_type": "markdown",
   "id": "6f0f2e06",
   "metadata": {},
   "source": [
    "We train the model with the training set and then we see its performance with the test set. \n",
    "The threshold value selected is 0.5 for the probabilities."
   ]
  },
  {
   "cell_type": "code",
   "execution_count": 33,
   "id": "02f88d2b",
   "metadata": {},
   "outputs": [],
   "source": [
    "threshold_selected = 0.5\n",
    "\n",
    "model = LogisticRegression(C=10)\n",
    "model.fit(X_train, y_train)\n",
    "\n",
    "y_pred = model.predict_proba(X_test)[:, 1]"
   ]
  },
  {
   "cell_type": "code",
   "execution_count": 34,
   "id": "528214e5",
   "metadata": {},
   "outputs": [],
   "source": [
    "roc_auc = roc_auc_score(y_test, y_pred)\n",
    "accuracy = accuracy_score(y_test, y_pred>=threshold_selected)"
   ]
  },
  {
   "cell_type": "markdown",
   "id": "13c6c5ac",
   "metadata": {},
   "source": [
    "<a name=\"ap4_3\"></a>\n",
    "## 4.3. Evaluate model"
   ]
  },
  {
   "cell_type": "markdown",
   "id": "aec8492a",
   "metadata": {},
   "source": [
    "Having our model trained, now, we are going to analize its performance with different metrics:\n",
    "+ Accuracy.\n",
    "+ ROC and AUC.\n",
    "+ Confusion matrix.\n",
    "+ Precision, Recall and F1 score."
   ]
  },
  {
   "cell_type": "markdown",
   "id": "85544326",
   "metadata": {},
   "source": [
    "### Accuracy"
   ]
  },
  {
   "cell_type": "markdown",
   "id": "31c5680c",
   "metadata": {},
   "source": [
    "Percentage of correct predictions the model makes.\n",
    "\n",
    "+ We achieve an accuracy of ~80% so that's great!"
   ]
  },
  {
   "cell_type": "code",
   "execution_count": 35,
   "id": "a35aaa9b",
   "metadata": {},
   "outputs": [
    {
     "name": "stdout",
     "output_type": "stream",
     "text": [
      "Accuracy: 79.89 %\n"
     ]
    }
   ],
   "source": [
    "print(\"Accuracy: {} %\".format(round(accuracy,4)*100))"
   ]
  },
  {
   "cell_type": "markdown",
   "id": "c1b57b8e",
   "metadata": {},
   "source": [
    "### ROC and AUC"
   ]
  },
  {
   "cell_type": "code",
   "execution_count": 36,
   "id": "fb6243d3",
   "metadata": {},
   "outputs": [
    {
     "name": "stdout",
     "output_type": "stream",
     "text": [
      "AUC: 0.8461\n"
     ]
    },
    {
     "data": {
      "image/png": "[encoded data removed]",
      "text/plain": [
       "<Figure size 432x360 with 1 Axes>"
      ]
     },
     "metadata": {},
     "output_type": "display_data"
    }
   ],
   "source": [
    "fpr, tpr, threshold = roc_curve(y_test, y_pred)\n",
    "\n",
    "print(\"AUC: {}\".format(round(roc_auc, 4)))\n",
    "\n",
    "plt.figure(figsize = (6, 5))\n",
    "\n",
    "plt.plot(fpr, tpr, color='blue', label='AUC = %0.2f' %roc_auc)\n",
    "plt.plot([0, 1], [0, 1], color='black', linestyle='dashed')\n",
    "\n",
    "plt.title('Receiver Operating Characteristic (ROC)')\n",
    "plt.xlabel('False Positive Rate')\n",
    "plt.ylabel('True Positive Rate')\n",
    "plt.legend(loc='lower right')\n",
    "\n",
    "plt.show()"
   ]
  },
  {
   "cell_type": "markdown",
   "id": "d130303e",
   "metadata": {},
   "source": [
    "+ FPR (False Positive Rate) is the fraction of users we predicted as churning among everybody who didn’t churn.\n",
    "+ TPR (True Positive Rate) is the fraction of users who we predicted as churning among everybody who actually did churn.\n",
    "\n",
    "The AUC value is ~0.85 so it is indicative of a reasonably good model (AUC=1 for an ideal model). "
   ]
  },
  {
   "cell_type": "markdown",
   "id": "db7e669f",
   "metadata": {},
   "source": [
    "### Confusion matrix "
   ]
  },
  {
   "cell_type": "code",
   "execution_count": 37,
   "id": "32e68ac2",
   "metadata": {},
   "outputs": [
    {
     "data": {
      "image/png": "[encoded data removed]",
      "text/plain": [
       "<Figure size 360x216 with 2 Axes>"
      ]
     },
     "metadata": {},
     "output_type": "display_data"
    }
   ],
   "source": [
    "table = confusion_matrix(y_test, y_pred>=threshold_selected)\n",
    "\n",
    "plt.figure(figsize=(5,3))\n",
    "\n",
    "sns.heatmap(table/table.sum(), annot=True, cmap='Blues', fmt='.2%')\n",
    "\n",
    "plt.title('Confusion matrix')\n",
    "plt.xlabel('Predictions')\n",
    "plt.ylabel('Actual')\n",
    "plt.show()"
   ]
  },
  {
   "cell_type": "markdown",
   "id": "63979e81",
   "metadata": {},
   "source": [
    "We see that the model predicts negative values quite well: ~66% of the predictions are true negatives. However, it\n",
    "makes quite a few mistakes of both types: the number of false positives and false negatives is roughly equal (8% and 12%, respectively)."
   ]
  },
  {
   "cell_type": "markdown",
   "id": "51c2f0cc",
   "metadata": {},
   "source": [
    "### Precision , Recall and F1 score "
   ]
  },
  {
   "cell_type": "code",
   "execution_count": 38,
   "id": "ea44e0a0",
   "metadata": {},
   "outputs": [
    {
     "name": "stdout",
     "output_type": "stream",
     "text": [
      "              precision    recall  f1-score   support\n",
      "\n",
      "           0       0.85      0.89      0.87      1041\n",
      "           1       0.63      0.54      0.58       366\n",
      "\n",
      "    accuracy                           0.80      1407\n",
      "   macro avg       0.74      0.72      0.73      1407\n",
      "weighted avg       0.79      0.80      0.79      1407\n",
      "\n"
     ]
    }
   ],
   "source": [
    "print(classification_report(y_test, y_pred>=threshold_selected))"
   ]
  },
  {
   "cell_type": "markdown",
   "id": "2193a8cf",
   "metadata": {},
   "source": [
    "+ Precision helps us understand how many people received a promotional message by mistake. The better the precision, the fewer false positives we have. The precision of 63% means that 63% of the reached customers indeed were going to churn (our true positives), whereas the remaining 37% were not (false positives). \n",
    "+ Recall helps us understand how many of the churning customers we failed to find. The better the recall, the fewer false negatives we have. The recall of 54% means that we reach only 54% of all churning users (true positives) and fail to identify the remaining 46% (false negatives). \n",
    "\n",
    "Although the accuracy of 80% might suggest that the model is great, looking at its precision and recall tells us that it actually makes quite a few errors."
   ]
  },
  {
   "cell_type": "markdown",
   "id": "4849d05a",
   "metadata": {},
   "source": [
    "<a name=\"ap5\"></a>\n",
    "# 5. Model interpretation"
   ]
  },
  {
   "cell_type": "markdown",
   "id": "47c622bc",
   "metadata": {},
   "source": [
    "Finally, let's analize what are the conclusions made by our model:"
   ]
  },
  {
   "cell_type": "code",
   "execution_count": 39,
   "id": "9570d3d5",
   "metadata": {},
   "outputs": [],
   "source": [
    "feat_imp = pd.DataFrame({'features': X_test.columns, 'weights': model.coef_[0]})"
   ]
  },
  {
   "cell_type": "markdown",
   "id": "dde1305e",
   "metadata": {},
   "source": [
    "### Positive weights"
   ]
  },
  {
   "cell_type": "markdown",
   "id": "99337635",
   "metadata": {},
   "source": [
    "From Logistic Regression algorithm we can conclude tha the following features are the most important varaibles to predict  `churn`. They have a positive impact when a costumer is going to churn:\n",
    "\n",
    "+ `TotalCharges`\n",
    "+ `Contract_Month-to-month`\n",
    "+ `InternetService_Fiber optic`"
   ]
  },
  {
   "cell_type": "code",
   "execution_count": 48,
   "id": "23387fd3",
   "metadata": {},
   "outputs": [
    {
     "data": {
      "image/png": "[encoded data removed]",
      "text/plain": [
       "<Figure size 360x360 with 1 Axes>"
      ]
     },
     "metadata": {},
     "output_type": "display_data"
    }
   ],
   "source": [
    "plt.figure(figsize=(5,5))\n",
    "sns.barplot(data=feat_imp.sort_values(by='weights', ascending=False)[:7], \n",
    "            x='weights', \n",
    "            y='features', \n",
    "            orient='h',\n",
    "            palette='ch:s=.25,rot=-.25')\n",
    "            \n",
    "plt.title('Feature importances')\n",
    "plt.ylabel('Features')\n",
    "plt.xlabel('Weights')\n",
    "            \n",
    "plt.show()"
   ]
  },
  {
   "cell_type": "markdown",
   "id": "8fef2d17",
   "metadata": {},
   "source": [
    "### Negative weights"
   ]
  },
  {
   "cell_type": "markdown",
   "id": "0063db8a",
   "metadata": {},
   "source": [
    "From Logistic Regression algorithm we can conclude that the following features are the most important for predicting `no churn`. They have a negative impact on churning:\n",
    "+ `Tenure`\n",
    "+ `Contract_Two_year`"
   ]
  },
  {
   "cell_type": "code",
   "execution_count": 59,
   "id": "47339f8a",
   "metadata": {},
   "outputs": [
    {
     "data": {
      "image/png": "[encoded data removed]",
      "text/plain": [
       "<Figure size 360x216 with 1 Axes>"
      ]
     },
     "metadata": {},
     "output_type": "display_data"
    }
   ],
   "source": [
    "plt.figure(figsize=(5,3))\n",
    "sns.barplot(data=feat_imp.sort_values(by='weights', ascending=False)[-4:], \n",
    "            x='weights', \n",
    "            y='features', \n",
    "            orient='h',\n",
    "            palette='ch:s=.25,rot=-.25')\n",
    "            \n",
    "plt.title('Feature importances')\n",
    "plt.ylabel('Features')\n",
    "plt.xlabel('Weights')\n",
    "            \n",
    "plt.show()"
   ]
  }
 ],
 "metadata": {
  "kernelspec": {
   "display_name": "Python 3 (ipykernel)",
   "language": "python",
   "name": "python3"
  },
  "language_info": {
   "codemirror_mode": {
    "name": "ipython",
    "version": 3
   },
   "file_extension": ".py",
   "mimetype": "text/x-python",
   "name": "python",
   "nbconvert_exporter": "python",
   "pygments_lexer": "ipython3",
   "version": "3.9.12"
  }
 },
 "nbformat": 4,
 "nbformat_minor": 5
}
